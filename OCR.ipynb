{
  "cells": [
    {
      "cell_type": "code",
      "execution_count": null,
      "metadata": {
        "id": "D83Z-zujLPjA"
      },
      "outputs": [],
      "source": [
        "pip install easyocr"
      ]
    },
    {
      "cell_type": "code",
      "execution_count": null,
      "metadata": {
        "id": "DXaIdybieOaj"
      },
      "outputs": [],
      "source": [
        "pip install streamlit"
      ]
    },
    {
      "cell_type": "code",
      "source": [
        "pip install streamlit_option_menu"
      ],
      "metadata": {
        "id": "i8eFhmIcAr9L"
      },
      "execution_count": null,
      "outputs": []
    },
    {
      "cell_type": "code",
      "execution_count": null,
      "metadata": {
        "id": "fI6ihhaWeOdH"
      },
      "outputs": [],
      "source": [
        "pip install pyngrok"
      ]
    },
    {
      "cell_type": "code",
      "source": [
        "import sqlite3\n",
        "ltconn = sqlite3.connect(\"/content/ocr.db\")\n",
        "ltcursor = ltconn.cursor()\n",
        "ltcursor.execute(\"CREATE TABLE card_data (id INTEGER PRIMARY KEY AUTOINCREMENT, company_name TEXT, card_holder TEXT, designation TEXT, mobile_number VARCHAR(50), email TEXT, website TEXT, area TEXT, city TEXT, state TEXT, pin_code VARCHAR(10), image LONGBLOB)\")"
      ],
      "metadata": {
        "colab": {
          "base_uri": "https://localhost:8080/"
        },
        "id": "23_xMoXfljDe",
        "outputId": "3c2cc77a-4eb0-4fc8-9027-79d64acf42a6"
      },
      "execution_count": 5,
      "outputs": [
        {
          "output_type": "execute_result",
          "data": {
            "text/plain": [
              "<sqlite3.Cursor at 0x78d8cc9c5bc0>"
            ]
          },
          "metadata": {},
          "execution_count": 5
        }
      ]
    },
    {
      "cell_type": "code",
      "execution_count": 23,
      "metadata": {
        "colab": {
          "base_uri": "https://localhost:8080/"
        },
        "id": "qRLapIrUg0D7",
        "outputId": "28c89bdb-37e5-4ca9-8e40-8161d45e6c06"
      },
      "outputs": [
        {
          "output_type": "stream",
          "name": "stdout",
          "text": [
            "Overwriting app.py\n"
          ]
        }
      ],
      "source": [
        "%%writefile app.py\n",
        "\n",
        "import easyocr\n",
        "import pandas as pd\n",
        "import streamlit as st\n",
        "from streamlit_option_menu import option_menu\n",
        "import streamlit as st\n",
        "import pandas as pd\n",
        "import plotly.express as px\n",
        "import streamlit as st\n",
        "from PIL import Image\n",
        "import matplotlib.pyplot as plt\n",
        "import sqlite3\n",
        "import cv2\n",
        "import re\n",
        "import base64\n",
        "import io\n",
        "\n",
        "def image_preview(image,res):\n",
        "    for (bbox, text, prob) in res:\n",
        "      # unpack the bounding box\n",
        "        (tl, tr, br, bl) = bbox\n",
        "        tl = (int(tl[0]), int(tl[1]))\n",
        "        tr = (int(tr[0]), int(tr[1]))\n",
        "        br = (int(br[0]), int(br[1]))\n",
        "        bl = (int(bl[0]), int(bl[1]))\n",
        "        cv2.rectangle(image, tl, br, (0, 255, 0), 2)\n",
        "        cv2.putText(image, text, (tl[0], tl[1] - 10),\n",
        "        cv2.FONT_HERSHEY_SIMPLEX, 0.7, (255, 0, 0), 2)\n",
        "    plt.rcParams['figure.figsize'] = (15,15)\n",
        "    plt.axis('off')\n",
        "    plt.imshow(image)\n",
        "\n",
        "# CONVERTING IMAGE TO BINARY TO UPLOAD TO SQL DATABASE\n",
        "def img_to_encode(filename):\n",
        "    file = open(filename,'rb').read()\n",
        "    file = base64.b64encode(file)\n",
        "    return file\n",
        "\n",
        "def get_data(res):\n",
        "    for ind,i in enumerate(res):\n",
        "        # To get WEBSITE_URL\n",
        "        if \"www \" in i.lower():\n",
        "          data[\"website\"]=res[4] +\".\" + res[5]\n",
        "        elif \"www.\" in i.lower():\n",
        "            data[\"website\"]=res[4]  + res[5]\n",
        "        elif \"WWW\" in i:\n",
        "            data[\"website\"] = \"www.\" + res[5]\n",
        "\n",
        "        # To get EMAIL ID\n",
        "        elif \"@\" in i:\n",
        "            data[\"email\"]=i\n",
        "\n",
        "        # To get MOBILE NUMBER\n",
        "        elif \"-\" in i:\n",
        "            data[\"mobile_number\"]=i\n",
        "            if len(data[\"mobile_number\"]) ==2:\n",
        "                data[\"mobile_number\"] = \" & \".join(data[\"mobile_number\"])\n",
        "\n",
        "        # To get COMPANY NAME\n",
        "        elif ind == len(res)-1:\n",
        "            data[\"company_name\"]=i\n",
        "\n",
        "        # To get CARD HOLDER NAME\n",
        "        elif ind == 0:\n",
        "            data[\"card_holder\"]=i\n",
        "\n",
        "        # To get DESIGNATION\n",
        "        elif ind == 1:\n",
        "            data[\"designation\"]=i\n",
        "\n",
        "        # To get AREA\n",
        "        if re.findall('^[0-9].+, [a-zA-Z]+',i):\n",
        "            data[\"area\"]=i.split(',')[0]\n",
        "        elif re.findall('[0-9] [a-zA-Z]+',i):\n",
        "            data[\"area\"]=i\n",
        "        else:\n",
        "             data[\"area\"]= res[6] #\"No\"\n",
        "\n",
        "        # To get CITY NAME\n",
        "        match1 = re.findall('.+St , ([a-zA-Z]+).+', i)\n",
        "        match2 = re.findall('.+St,, ([a-zA-Z]+).+', i)\n",
        "        match3 = re.findall('^[E].*',i)\n",
        "        if match1:\n",
        "            data[\"city\"]=match1[0]\n",
        "        elif match2:\n",
        "            data[\"city\"]=match2[0]\n",
        "        elif match3:\n",
        "            data[\"city\"]=match3[0]\n",
        "        else:\n",
        "            data[\"city\"]= res[7] #\"No\"\n",
        "\n",
        "        # To get STATE\n",
        "        state_match = re.findall('[a-zA-Z]{9} +[0-9]',i)\n",
        "        if state_match:\n",
        "              data[\"state\"]=i[:9]\n",
        "        elif re.findall('^[0-9].+, ([a-zA-Z]+);',i):\n",
        "            data[\"state\"]=i.split()[-1]\n",
        "        if len(data[\"state\"])== 2:\n",
        "            data[\"state\"].pop(0)\n",
        "\n",
        "        # To get PINCODE\n",
        "        if len(i)>=6 and i.isdigit():\n",
        "            data[\"pin_code\"]=i\n",
        "        elif re.findall('[a-zA-Z]{9} +[0-9]',i):\n",
        "            data[\"pin_code\"]=i[10:]\n",
        "    data[\"image\"]=img_to_encode(uploaded_card.name)\n",
        "    return data\n",
        "\n",
        "icon = Image.open(\"card.jpg\")\n",
        "st.set_page_config(page_title= \"BizCardX - Kavitha\",\n",
        "                page_icon= icon,\n",
        "                layout= \"wide\",\n",
        "                initial_sidebar_state= \"expanded\",\n",
        "                )\n",
        "st.subheader(\":blue[BizCardX : Extracting Business Card Data with OCR]\")\n",
        "selected = option_menu(None, [\"Upload\",\"Modify\",\"Delete\",\"About\"],\n",
        "                       default_index=0,\n",
        "                       orientation=\"horizontal\",\n",
        "                       styles={\"nav-link\": {\"font-size\": \"20px\", \"text-align\": \"centre\", \"margin\": \"0px\", \"hover-color\": \"#36FF33\"},\n",
        "                               \"icon\": {\"font-size\": \"20px\"},\n",
        "                               \"container\" : {\"max-width\": \"6000px\"},\n",
        "                                                              \"nav-link-selected\": {\"background-color\": \"#333CFF\"}})\n",
        "\n",
        "\n",
        "if selected == \"Upload\":\n",
        "    st.caption(\":blue[Upload a Business Card]\")\n",
        "    uploaded_card = st.file_uploader(\"Select file (png,jpg,jpg) to upload\",label_visibility=\"collapsed\",type=[\"png\",\"jpeg\",\"jpg\"])\n",
        "\n",
        "    if uploaded_card is not None:\n",
        "        # INITIALIZING THE EasyOCR READER\n",
        "        reader = easyocr.Reader(['en'])\n",
        "        col1,col2 = st.columns(2,gap=\"large\")\n",
        "        with col1:\n",
        "            st.caption(\"Uploaded image\")\n",
        "            st.image(uploaded_card)\n",
        "        with col2:\n",
        "            with st.spinner(\"Image is processing\"):\n",
        "                st.set_option('deprecation.showPyplotGlobalUse', False)\n",
        "                saved_img = \"/content/\" + uploaded_card.name\n",
        "                image = cv2.imread(saved_img)\n",
        "                res = reader.readtext(saved_img)\n",
        "                st.success(\":blue[Processed image]\")\n",
        "                st.pyplot(image_preview(image,res))\n",
        "\n",
        "                result = reader.readtext(uploaded_card.name,detail = 0,paragraph=False)\n",
        "\n",
        "        data = {\"company_name\" : [],\n",
        "                \"card_holder\" : [],\n",
        "                \"designation\" : [],\n",
        "                \"mobile_number\" :[],\n",
        "                \"email\" : [],\n",
        "                \"website\" : [],\n",
        "                \"area\" : [],\n",
        "                \"city\" : [],\n",
        "                \"state\" : [],\n",
        "                \"pin_code\" : [],\n",
        "                \"image\" : []\n",
        "              }\n",
        "\n",
        "        data1=get_data(result)\n",
        "\n",
        "        df = pd.DataFrame.from_dict(data1, orient='index')\n",
        "        df = df.transpose()\n",
        "\n",
        "        st.dataframe(df, hide_index=True)\n",
        "\n",
        "        if st.button(\"Save to Database\"):\n",
        "            mydb = sqlite3.connect(\"/content/ocr.db\")\n",
        "            mycursor = mydb.cursor()\n",
        "            try:\n",
        "              for i,row in df.iterrows():\n",
        "                #row[\"state\"]=row[\"state\"][0]\n",
        "                sql = \"INSERT INTO card_data (company_name,card_holder,designation,mobile_number,email,website,area,city,state,pin_code,image) VALUES (?,?,?,?,?,?,?,?,?,?,?)\"\n",
        "                mycursor.execute(sql, tuple(row))\n",
        "                mydb.commit()\n",
        "            except Exception as e:\n",
        "              print(e)\n",
        "            st.success(\":blue[Uploaded to database successfully!]\")\n",
        "\n",
        "if selected == \"Modify\":\n",
        "    try:\n",
        "        mydb = sqlite3.connect(\"/content/ocr.db\")\n",
        "        mycursor = mydb.cursor()\n",
        "        mycursor.execute(\"select card_holder from card_data\")\n",
        "        myrows = mycursor.fetchall()\n",
        "\n",
        "        business_cards = {}\n",
        "        for row in myrows:\n",
        "            business_cards[row[0]] = row[0]\n",
        "        selected_card = st.selectbox(\":blue[Select a card holder name to update]\", list(business_cards.keys()))\n",
        "        st.caption(\":blue[Update or modify any data below]\")\n",
        "        mycursor.execute(\"select company_name,card_holder,designation,mobile_number,email,website,area,city,state,pin_code,image from card_data WHERE card_holder=?\",\n",
        "                        (selected_card,))\n",
        "        result = mycursor.fetchone()\n",
        "\n",
        "        # DISPLAYING ALL THE INFORMATIONS\n",
        "        company_name = st.text_input(\"Company_Name\", result[0])\n",
        "        card_holder = st.text_input(\"Card_Holder\", result[1])\n",
        "        designation = st.text_input(\"Designation\", result[2])\n",
        "        mobile_number = st.text_input(\"Mobile_Number\", result[3])\n",
        "        email = st.text_input(\"Email\", result[4])\n",
        "        website = st.text_input(\"Website\", result[5])\n",
        "        area = st.text_input(\"Area\", result[6])\n",
        "        city = st.text_input(\"City\", result[7])\n",
        "        state = st.text_input(\"State\", result[8])\n",
        "        pin_code = st.text_input(\"Pin_Code\", result[9])\n",
        "\n",
        "        # Display image\n",
        "        image = result[10]\n",
        "        binary_data = base64.b64decode(image)\n",
        "        image = Image.open(io.BytesIO(binary_data))\n",
        "        st.image(image)\n",
        "\n",
        "        if st.button(\":blue[Update changes to DB]\"):\n",
        "            # Update the information for the selected business card in the database\n",
        "            mycursor.execute(\"\"\"UPDATE card_data SET company_name=?,card_holder=?,designation=?,mobile_number=?,email=?,website=?,area=?,city=?,state=?,pin_code=?\n",
        "                                WHERE card_holder=?\"\"\", (company_name,card_holder,designation,mobile_number,email,website,area,city,state,pin_code,selected_card))\n",
        "            mydb.commit()\n",
        "            st.success(\":blue[Information updated in database successfully.]\")\n",
        "    except:\n",
        "        st.warning(\"There is no data available in the database\")\n",
        "\n",
        "    if st.button(\":blue[View updated data]\"):\n",
        "        mycursor.execute(\"select company_name,card_holder,designation,mobile_number,email,website,area,city,state,pin_code from card_data\")\n",
        "        myrows = mycursor.fetchall()\n",
        "        updated_df = pd.DataFrame(myrows,columns=[\"Company_Name\",\"Card_Holder\",\"Designation\",\"Mobile_Number\",\"Email\",\"Website\",\"Area\",\"City\",\"State\",\"Pin_Code\"])\n",
        "        st.dataframe(updated_df, hide_index=True)\n",
        "if selected == \"Delete\":\n",
        "      mydb = sqlite3.connect(\"/content/ocr.db\")\n",
        "      mycursor = mydb.cursor()\n",
        "      mycursor.execute(\"SELECT card_holder FROM card_data\")\n",
        "      result = mycursor.fetchall()\n",
        "      business_cards = {}\n",
        "      for row in result:\n",
        "          business_cards[row[0]] = row[0]\n",
        "      selected_card = st.selectbox(\"Select a card holder name to Delete\", list(business_cards.keys()))\n",
        "      st.write(f\":blue[You have selected] :red[**{selected_card}'s**]:blue[ card to delete]\")\n",
        "      st.write(\":blue[Proceed to delete this card?]\")\n",
        "\n",
        "      if st.button(\":blue[Yes Delete Business Card]\"):\n",
        "          mycursor.execute(f\"DELETE FROM card_data WHERE card_holder='{selected_card}'\")\n",
        "          mydb.commit()\n",
        "          st.success(\":blue[Business card information deleted from database.]\")\n",
        "\n",
        "if selected == \"About\":\n",
        "    st.caption(\":blue[Overview:]\")\n",
        "    st.caption(\":blue[This application allows users to upload a business card image and extract relevant information from it using easyOCR.]\")\n",
        "    st.caption(\":blue[The extracted informations are company name, card holder name, designation, mobile number, email address, website URL, area, city, state and pin code.]\")\n",
        "    st.caption(\":blue[You can view the extracted information in the card.]\")\n",
        "    st.caption(\":blue[Technologies :]\")\n",
        "    st.caption(\":blue[streamlit GUI, SQL lite,OCR Data Extraction and Python]\")\n"
      ]
    },
    {
      "cell_type": "code",
      "execution_count": 7,
      "metadata": {
        "colab": {
          "base_uri": "https://localhost:8080/"
        },
        "id": "UXSzFyQCg0Rg",
        "outputId": "d1e9a24a-2d01-4632-9a65-19ffdc40e4cb"
      },
      "outputs": [
        {
          "output_type": "stream",
          "name": "stdout",
          "text": [
            "\u001b[K\u001b[?25h\u001b[37;40mnpm\u001b[0m \u001b[0m\u001b[30;43mWARN\u001b[0m \u001b[0m\u001b[35msaveError\u001b[0m ENOENT: no such file or directory, open '/content/package.json'\n",
            "\u001b[0m\u001b[37;40mnpm\u001b[0m \u001b[0m\u001b[34;40mnotice\u001b[0m\u001b[35m\u001b[0m created a lockfile as package-lock.json. You should commit this file.\n",
            "\u001b[0m\u001b[37;40mnpm\u001b[0m \u001b[0m\u001b[30;43mWARN\u001b[0m \u001b[0m\u001b[35menoent\u001b[0m ENOENT: no such file or directory, open '/content/package.json'\n",
            "\u001b[0m\u001b[37;40mnpm\u001b[0m \u001b[0m\u001b[30;43mWARN\u001b[0m\u001b[35m\u001b[0m content No description\n",
            "\u001b[0m\u001b[37;40mnpm\u001b[0m \u001b[0m\u001b[30;43mWARN\u001b[0m\u001b[35m\u001b[0m content No repository field.\n",
            "\u001b[0m\u001b[37;40mnpm\u001b[0m \u001b[0m\u001b[30;43mWARN\u001b[0m\u001b[35m\u001b[0m content No README data\n",
            "\u001b[0m\u001b[37;40mnpm\u001b[0m \u001b[0m\u001b[30;43mWARN\u001b[0m\u001b[35m\u001b[0m content No license field.\n",
            "\u001b[0m\n",
            "+ localtunnel@2.0.2\n",
            "added 22 packages from 22 contributors and audited 22 packages in 2.009s\n",
            "\n",
            "3 packages are looking for funding\n",
            "  run `npm fund` for details\n",
            "\n",
            "found \u001b[92m0\u001b[0m vulnerabilities\n",
            "\n",
            "\u001b[K\u001b[?25h"
          ]
        }
      ],
      "source": [
        "!npm install localtunnel"
      ]
    },
    {
      "cell_type": "code",
      "execution_count": 24,
      "metadata": {
        "colab": {
          "base_uri": "https://localhost:8080/"
        },
        "id": "mf830BBHg0gs",
        "outputId": "98f8a536-9a1e-4c41-bca4-3f4106b498df"
      },
      "outputs": [
        {
          "output_type": "stream",
          "name": "stdout",
          "text": [
            "34.148.118.197\n",
            "\u001b[K\u001b[?25hnpx: installed 22 in 2.856s\n",
            "your url is: https://big-pets-sleep.loca.lt\n"
          ]
        }
      ],
      "source": [
        "!streamlit run /content/app.py &>/content/logs.txt & npx localtunnel --port 8501 & curl ipv4.icanhazip.com"
      ]
    },
    {
      "cell_type": "code",
      "execution_count": null,
      "metadata": {
        "id": "ML88uyvtg01L"
      },
      "outputs": [],
      "source": []
    },
    {
      "cell_type": "code",
      "execution_count": null,
      "metadata": {
        "id": "aLNuhAH3g1HN"
      },
      "outputs": [],
      "source": []
    },
    {
      "cell_type": "code",
      "execution_count": null,
      "metadata": {
        "id": "Ig4-G3Z8eOfn"
      },
      "outputs": [],
      "source": []
    },
    {
      "cell_type": "markdown",
      "source": [],
      "metadata": {
        "id": "hNviJALv5S8N"
      }
    }
  ],
  "metadata": {
    "colab": {
      "provenance": [],
      "authorship_tag": "ABX9TyOrBHYe60h6+Zlz88CV7ObO"
    },
    "kernelspec": {
      "display_name": "Python 3",
      "name": "python3"
    },
    "language_info": {
      "name": "python"
    }
  },
  "nbformat": 4,
  "nbformat_minor": 0
}